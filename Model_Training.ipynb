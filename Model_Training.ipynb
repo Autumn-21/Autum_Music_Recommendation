{
 "cells": [
  {
   "cell_type": "code",
   "execution_count": 56,
   "id": "9b2b3af6-89a8-480e-9ed4-be2134fccab1",
   "metadata": {},
   "outputs": [],
   "source": [
    "import pandas as pd"
   ]
  },
  {
   "cell_type": "code",
   "execution_count": 57,
   "id": "266512ed-fb86-4cbf-be8a-30066335fe36",
   "metadata": {},
   "outputs": [],
   "source": [
    "df = pd.read_csv(\"spotify_millsongdata.csv\")"
   ]
  },
  {
   "cell_type": "code",
   "execution_count": 58,
   "id": "5a4eb335-8ba9-4806-9d29-f087b04246b0",
   "metadata": {},
   "outputs": [
    {
     "data": {
      "text/html": [
       "<div>\n",
       "<style scoped>\n",
       "    .dataframe tbody tr th:only-of-type {\n",
       "        vertical-align: middle;\n",
       "    }\n",
       "\n",
       "    .dataframe tbody tr th {\n",
       "        vertical-align: top;\n",
       "    }\n",
       "\n",
       "    .dataframe thead th {\n",
       "        text-align: right;\n",
       "    }\n",
       "</style>\n",
       "<table border=\"1\" class=\"dataframe\">\n",
       "  <thead>\n",
       "    <tr style=\"text-align: right;\">\n",
       "      <th></th>\n",
       "      <th>artist</th>\n",
       "      <th>song</th>\n",
       "      <th>link</th>\n",
       "      <th>text</th>\n",
       "    </tr>\n",
       "  </thead>\n",
       "  <tbody>\n",
       "    <tr>\n",
       "      <th>0</th>\n",
       "      <td>ABBA</td>\n",
       "      <td>Ahe's My Kind Of Girl</td>\n",
       "      <td>/a/abba/ahes+my+kind+of+girl_20598417.html</td>\n",
       "      <td>Look at her face, it's a wonderful face  \\r\\nA...</td>\n",
       "    </tr>\n",
       "    <tr>\n",
       "      <th>1</th>\n",
       "      <td>ABBA</td>\n",
       "      <td>Andante, Andante</td>\n",
       "      <td>/a/abba/andante+andante_20002708.html</td>\n",
       "      <td>Take it easy with me, please  \\r\\nTouch me gen...</td>\n",
       "    </tr>\n",
       "    <tr>\n",
       "      <th>2</th>\n",
       "      <td>ABBA</td>\n",
       "      <td>As Good As New</td>\n",
       "      <td>/a/abba/as+good+as+new_20003033.html</td>\n",
       "      <td>I'll never know why I had to go  \\r\\nWhy I had...</td>\n",
       "    </tr>\n",
       "    <tr>\n",
       "      <th>3</th>\n",
       "      <td>ABBA</td>\n",
       "      <td>Bang</td>\n",
       "      <td>/a/abba/bang_20598415.html</td>\n",
       "      <td>Making somebody happy is a question of give an...</td>\n",
       "    </tr>\n",
       "    <tr>\n",
       "      <th>4</th>\n",
       "      <td>ABBA</td>\n",
       "      <td>Bang-A-Boomerang</td>\n",
       "      <td>/a/abba/bang+a+boomerang_20002668.html</td>\n",
       "      <td>Making somebody happy is a question of give an...</td>\n",
       "    </tr>\n",
       "  </tbody>\n",
       "</table>\n",
       "</div>"
      ],
      "text/plain": [
       "  artist                   song                                        link  \\\n",
       "0   ABBA  Ahe's My Kind Of Girl  /a/abba/ahes+my+kind+of+girl_20598417.html   \n",
       "1   ABBA       Andante, Andante       /a/abba/andante+andante_20002708.html   \n",
       "2   ABBA         As Good As New        /a/abba/as+good+as+new_20003033.html   \n",
       "3   ABBA                   Bang                  /a/abba/bang_20598415.html   \n",
       "4   ABBA       Bang-A-Boomerang      /a/abba/bang+a+boomerang_20002668.html   \n",
       "\n",
       "                                                text  \n",
       "0  Look at her face, it's a wonderful face  \\r\\nA...  \n",
       "1  Take it easy with me, please  \\r\\nTouch me gen...  \n",
       "2  I'll never know why I had to go  \\r\\nWhy I had...  \n",
       "3  Making somebody happy is a question of give an...  \n",
       "4  Making somebody happy is a question of give an...  "
      ]
     },
     "execution_count": 58,
     "metadata": {},
     "output_type": "execute_result"
    }
   ],
   "source": [
    "df.head(5)"
   ]
  },
  {
   "cell_type": "code",
   "execution_count": 59,
   "id": "1e3d90c6-40de-4cfa-bee2-fe43c71f5155",
   "metadata": {},
   "outputs": [
    {
     "data": {
      "text/plain": [
       "(57650, 4)"
      ]
     },
     "execution_count": 59,
     "metadata": {},
     "output_type": "execute_result"
    }
   ],
   "source": [
    "df.shape"
   ]
  },
  {
   "cell_type": "markdown",
   "id": "94b39962-0b90-4228-bfbc-27244fa65329",
   "metadata": {},
   "source": [
    "Checking Null Value or Not"
   ]
  },
  {
   "cell_type": "code",
   "execution_count": 60,
   "id": "e61f512a-edc0-43ea-854a-ac39b3a485af",
   "metadata": {},
   "outputs": [
    {
     "data": {
      "text/plain": [
       "artist    0\n",
       "song      0\n",
       "link      0\n",
       "text      0\n",
       "dtype: int64"
      ]
     },
     "execution_count": 60,
     "metadata": {},
     "output_type": "execute_result"
    }
   ],
   "source": [
    "df.isnull().sum()"
   ]
  },
  {
   "cell_type": "code",
   "execution_count": 61,
   "id": "c7964354-1082-4037-a4c2-c3971a78d8e6",
   "metadata": {},
   "outputs": [],
   "source": [
    "df = df.sample(5000).drop('link', axis = 1).reset_index(drop=True)"
   ]
  },
  {
   "cell_type": "code",
   "execution_count": 62,
   "id": "29e6a7c6-d96b-44c9-bcda-264736540f60",
   "metadata": {},
   "outputs": [
    {
     "data": {
      "text/html": [
       "<div>\n",
       "<style scoped>\n",
       "    .dataframe tbody tr th:only-of-type {\n",
       "        vertical-align: middle;\n",
       "    }\n",
       "\n",
       "    .dataframe tbody tr th {\n",
       "        vertical-align: top;\n",
       "    }\n",
       "\n",
       "    .dataframe thead th {\n",
       "        text-align: right;\n",
       "    }\n",
       "</style>\n",
       "<table border=\"1\" class=\"dataframe\">\n",
       "  <thead>\n",
       "    <tr style=\"text-align: right;\">\n",
       "      <th></th>\n",
       "      <th>artist</th>\n",
       "      <th>song</th>\n",
       "      <th>text</th>\n",
       "    </tr>\n",
       "  </thead>\n",
       "  <tbody>\n",
       "    <tr>\n",
       "      <th>0</th>\n",
       "      <td>Beautiful South</td>\n",
       "      <td>Half-Hearted Get</td>\n",
       "      <td>I've only got one real fan  \\r\\nShe is not wom...</td>\n",
       "    </tr>\n",
       "    <tr>\n",
       "      <th>1</th>\n",
       "      <td>Korn</td>\n",
       "      <td>Lies</td>\n",
       "      <td>I would like to search inside for all of the t...</td>\n",
       "    </tr>\n",
       "    <tr>\n",
       "      <th>2</th>\n",
       "      <td>Roy Orbison</td>\n",
       "      <td>Love Star</td>\n",
       "      <td>Love Star, oh star of love have you forgotten ...</td>\n",
       "    </tr>\n",
       "    <tr>\n",
       "      <th>3</th>\n",
       "      <td>Noa</td>\n",
       "      <td>Savior</td>\n",
       "      <td>Savior, my savior  \\r\\nPouring out over desert...</td>\n",
       "    </tr>\n",
       "    <tr>\n",
       "      <th>4</th>\n",
       "      <td>Kinks</td>\n",
       "      <td>Good Day</td>\n",
       "      <td>The sky is blue  \\r\\nBut there are clouds in m...</td>\n",
       "    </tr>\n",
       "    <tr>\n",
       "      <th>5</th>\n",
       "      <td>Regine Velasquez</td>\n",
       "      <td>Will There Be A Morning</td>\n",
       "      <td>Will there really be A morning  \\r\\nBy: Regine...</td>\n",
       "    </tr>\n",
       "    <tr>\n",
       "      <th>6</th>\n",
       "      <td>Hank Williams</td>\n",
       "      <td>Honey, Do You Love Me, Huh</td>\n",
       "      <td>Honey, do you love me, huh?  \\r\\nHoney, do you...</td>\n",
       "    </tr>\n",
       "    <tr>\n",
       "      <th>7</th>\n",
       "      <td>Marillion</td>\n",
       "      <td>The Party</td>\n",
       "      <td>She bought a bottle of cider  \\r\\nFrom the sho...</td>\n",
       "    </tr>\n",
       "    <tr>\n",
       "      <th>8</th>\n",
       "      <td>Deep Purple</td>\n",
       "      <td>Anyone's Daughter</td>\n",
       "      <td>I stood under your bedroom window  \\r\\nThrowin...</td>\n",
       "    </tr>\n",
       "    <tr>\n",
       "      <th>9</th>\n",
       "      <td>Deep Purple</td>\n",
       "      <td>Flight Of The Rat</td>\n",
       "      <td>Spread the word around  \\r\\nThe rat is leaving...</td>\n",
       "    </tr>\n",
       "  </tbody>\n",
       "</table>\n",
       "</div>"
      ],
      "text/plain": [
       "             artist                        song  \\\n",
       "0   Beautiful South            Half-Hearted Get   \n",
       "1              Korn                        Lies   \n",
       "2       Roy Orbison                   Love Star   \n",
       "3               Noa                      Savior   \n",
       "4             Kinks                    Good Day   \n",
       "5  Regine Velasquez     Will There Be A Morning   \n",
       "6     Hank Williams  Honey, Do You Love Me, Huh   \n",
       "7         Marillion                   The Party   \n",
       "8       Deep Purple           Anyone's Daughter   \n",
       "9       Deep Purple           Flight Of The Rat   \n",
       "\n",
       "                                                text  \n",
       "0  I've only got one real fan  \\r\\nShe is not wom...  \n",
       "1  I would like to search inside for all of the t...  \n",
       "2  Love Star, oh star of love have you forgotten ...  \n",
       "3  Savior, my savior  \\r\\nPouring out over desert...  \n",
       "4  The sky is blue  \\r\\nBut there are clouds in m...  \n",
       "5  Will there really be A morning  \\r\\nBy: Regine...  \n",
       "6  Honey, do you love me, huh?  \\r\\nHoney, do you...  \n",
       "7  She bought a bottle of cider  \\r\\nFrom the sho...  \n",
       "8  I stood under your bedroom window  \\r\\nThrowin...  \n",
       "9  Spread the word around  \\r\\nThe rat is leaving...  "
      ]
     },
     "execution_count": 62,
     "metadata": {},
     "output_type": "execute_result"
    }
   ],
   "source": [
    "df.head(10)"
   ]
  },
  {
   "cell_type": "code",
   "execution_count": 63,
   "id": "a402af6e-46d7-479a-82b6-c68e6c380443",
   "metadata": {},
   "outputs": [
    {
     "data": {
      "text/plain": [
       "\"I've only got one real fan  \\r\\nShe is not woman, she is not man  \\r\\nShe's got her own coat of arms and her tartan and her own clan  \\r\\nHer clan surpasses beauty  \\r\\nalways love and never duty  \\r\\nA beauty that feels so alien to this land  \\r\\n  \\r\\nThese feelings should be censored they should be banned  \\r\\nBut when you put a porn-star in these hands  \\r\\nI'm the 6 month old with the keys to his own pram  \\r\\nYou got this straight to play the fool  \\r\\nMiss out nursery, miss out school  \\r\\nAnd gave the bullet train option to this old abandoned tram  \\r\\n  \\r\\nHow do you make so special look like dross  \\r\\nHow do you make expensive look budget cost  \\r\\nIf it's power to the workers then you are the boss  \\r\\nYou make bluebells look like moss  \\r\\nGave a second coat to gloss  \\r\\nAnd made Lennon's little Ono look like dross  \\r\\nIf prostitution was not illegal  \\r\\nyou'd make cheap sex look so regal  \\r\\nMake the hottest little joint in town look like frost  \\r\\n  \\r\\nThe famous they get stalkers, they get pests  \\r\\nBut I'd rather get a bullet right through my chest  \\r\\nAll that Lennon could imagine  \\r\\nwas not you, was just a fraction  \\r\\nand all half-hearted get is second best\\r\\n\\r\\n\""
      ]
     },
     "execution_count": 63,
     "metadata": {},
     "output_type": "execute_result"
    }
   ],
   "source": [
    "df['text'][0]"
   ]
  },
  {
   "cell_type": "code",
   "execution_count": 64,
   "id": "b72347eb-c0de-4841-8182-b879cff73a9d",
   "metadata": {},
   "outputs": [
    {
     "data": {
      "text/plain": [
       "(5000, 3)"
      ]
     },
     "execution_count": 64,
     "metadata": {},
     "output_type": "execute_result"
    }
   ],
   "source": [
    "df.shape"
   ]
  },
  {
   "cell_type": "markdown",
   "id": "9841f02c-9e36-499d-b1ef-b34fe43a4243",
   "metadata": {},
   "source": [
    "Text Cleaning/ Text Preprocessing"
   ]
  },
  {
   "cell_type": "code",
   "execution_count": 65,
   "id": "bc86623b-a12b-45d6-ad8f-4619efd98325",
   "metadata": {},
   "outputs": [],
   "source": [
    "df['text'] = df['text'].str.lower().replace(r'^\\w\\s', ' ').replace(r'\\n', ' ', regex = True)"
   ]
  },
  {
   "cell_type": "code",
   "execution_count": 66,
   "id": "a0e5e330-4277-4504-8660-34a019639d09",
   "metadata": {},
   "outputs": [
    {
     "data": {
      "text/plain": [
       "0       i've only got one real fan  \\r she is not woma...\n",
       "1       i would like to search inside for all of the t...\n",
       "2       love star, oh star of love have you forgotten ...\n",
       "3       savior, my savior  \\r pouring out over desert ...\n",
       "4       the sky is blue  \\r but there are clouds in my...\n",
       "                              ...                        \n",
       "4995    first, you find a house and scope it out  \\r f...\n",
       "4996    no krishna, buddha, jesus in my soul  \\r 'til ...\n",
       "4997    just a small town girl  \\r livin' in a lonely ...\n",
       "4998    i am just a lousy bum  \\r searching for the un...\n",
       "4999    (bairnson, elliott, parsons)  \\r   \\r what's t...\n",
       "Name: text, Length: 5000, dtype: object"
      ]
     },
     "execution_count": 66,
     "metadata": {},
     "output_type": "execute_result"
    }
   ],
   "source": [
    "df['text']"
   ]
  },
  {
   "cell_type": "code",
   "execution_count": 67,
   "id": "126c0d72-ac70-46cc-9739-a12667fdf8f5",
   "metadata": {},
   "outputs": [
    {
     "data": {
      "text/html": [
       "<div>\n",
       "<style scoped>\n",
       "    .dataframe tbody tr th:only-of-type {\n",
       "        vertical-align: middle;\n",
       "    }\n",
       "\n",
       "    .dataframe tbody tr th {\n",
       "        vertical-align: top;\n",
       "    }\n",
       "\n",
       "    .dataframe thead th {\n",
       "        text-align: right;\n",
       "    }\n",
       "</style>\n",
       "<table border=\"1\" class=\"dataframe\">\n",
       "  <thead>\n",
       "    <tr style=\"text-align: right;\">\n",
       "      <th></th>\n",
       "      <th>artist</th>\n",
       "      <th>song</th>\n",
       "      <th>text</th>\n",
       "    </tr>\n",
       "  </thead>\n",
       "  <tbody>\n",
       "    <tr>\n",
       "      <th>0</th>\n",
       "      <td>Beautiful South</td>\n",
       "      <td>Half-Hearted Get</td>\n",
       "      <td>i've only got one real fan  \\r she is not woma...</td>\n",
       "    </tr>\n",
       "    <tr>\n",
       "      <th>1</th>\n",
       "      <td>Korn</td>\n",
       "      <td>Lies</td>\n",
       "      <td>i would like to search inside for all of the t...</td>\n",
       "    </tr>\n",
       "    <tr>\n",
       "      <th>2</th>\n",
       "      <td>Roy Orbison</td>\n",
       "      <td>Love Star</td>\n",
       "      <td>love star, oh star of love have you forgotten ...</td>\n",
       "    </tr>\n",
       "    <tr>\n",
       "      <th>3</th>\n",
       "      <td>Noa</td>\n",
       "      <td>Savior</td>\n",
       "      <td>savior, my savior  \\r pouring out over desert ...</td>\n",
       "    </tr>\n",
       "    <tr>\n",
       "      <th>4</th>\n",
       "      <td>Kinks</td>\n",
       "      <td>Good Day</td>\n",
       "      <td>the sky is blue  \\r but there are clouds in my...</td>\n",
       "    </tr>\n",
       "  </tbody>\n",
       "</table>\n",
       "</div>"
      ],
      "text/plain": [
       "            artist              song  \\\n",
       "0  Beautiful South  Half-Hearted Get   \n",
       "1             Korn              Lies   \n",
       "2      Roy Orbison         Love Star   \n",
       "3              Noa            Savior   \n",
       "4            Kinks          Good Day   \n",
       "\n",
       "                                                text  \n",
       "0  i've only got one real fan  \\r she is not woma...  \n",
       "1  i would like to search inside for all of the t...  \n",
       "2  love star, oh star of love have you forgotten ...  \n",
       "3  savior, my savior  \\r pouring out over desert ...  \n",
       "4  the sky is blue  \\r but there are clouds in my...  "
      ]
     },
     "execution_count": 67,
     "metadata": {},
     "output_type": "execute_result"
    }
   ],
   "source": [
    "df.head()"
   ]
  },
  {
   "cell_type": "code",
   "execution_count": 68,
   "id": "bf447675-c609-4bb7-ae6b-aa92d2155089",
   "metadata": {},
   "outputs": [
    {
     "name": "stdout",
     "output_type": "stream",
     "text": [
      "Requirement already satisfied: nltk in c:\\users\\pyaes\\anaconda3\\envs\\music_recommendation\\lib\\site-packages (3.8.1)\n",
      "Requirement already satisfied: click in c:\\users\\pyaes\\anaconda3\\envs\\music_recommendation\\lib\\site-packages (from nltk) (8.1.7)\n",
      "Requirement already satisfied: joblib in c:\\users\\pyaes\\anaconda3\\envs\\music_recommendation\\lib\\site-packages (from nltk) (1.3.2)\n",
      "Requirement already satisfied: regex>=2021.8.3 in c:\\users\\pyaes\\anaconda3\\envs\\music_recommendation\\lib\\site-packages (from nltk) (2023.12.25)\n",
      "Requirement already satisfied: tqdm in c:\\users\\pyaes\\anaconda3\\envs\\music_recommendation\\lib\\site-packages (from nltk) (4.66.1)\n",
      "Requirement already satisfied: colorama in c:\\users\\pyaes\\anaconda3\\envs\\music_recommendation\\lib\\site-packages (from click->nltk) (0.4.6)\n"
     ]
    }
   ],
   "source": [
    "!pip install nltk"
   ]
  },
  {
   "cell_type": "code",
   "execution_count": 69,
   "id": "ea973bf9-3533-43c2-874f-4ac65f8ae587",
   "metadata": {},
   "outputs": [],
   "source": [
    "import nltk"
   ]
  },
  {
   "cell_type": "code",
   "execution_count": 70,
   "id": "af5a32a3-f0f0-4994-80f2-3a763ddd5a6c",
   "metadata": {},
   "outputs": [],
   "source": [
    "from nltk.stem.porter import PorterStemmer"
   ]
  },
  {
   "cell_type": "code",
   "execution_count": 71,
   "id": "738cc938-09bb-4665-8f38-c4a8c998f4ef",
   "metadata": {},
   "outputs": [],
   "source": [
    "stemmer = PorterStemmer()"
   ]
  },
  {
   "cell_type": "code",
   "execution_count": 72,
   "id": "ab353066-ea06-4fa7-bb11-b3e2e45db5ad",
   "metadata": {},
   "outputs": [],
   "source": [
    "def token(txt):\n",
    "    token = nltk.word_tokenize(txt)\n",
    "    a = [stemmer.stem(w) for w in token]\n",
    "    return \" \".join(a)"
   ]
  },
  {
   "cell_type": "code",
   "execution_count": 73,
   "id": "94038f11-ce9d-49bb-a032-97949ed668b5",
   "metadata": {},
   "outputs": [
    {
     "name": "stderr",
     "output_type": "stream",
     "text": [
      "[nltk_data] Downloading package punkt to\n",
      "[nltk_data]     C:\\Users\\pyaes\\AppData\\Roaming\\nltk_data...\n",
      "[nltk_data]   Package punkt is already up-to-date!\n"
     ]
    },
    {
     "data": {
      "text/plain": [
       "True"
      ]
     },
     "execution_count": 73,
     "metadata": {},
     "output_type": "execute_result"
    }
   ],
   "source": [
    "nltk.download('punkt')"
   ]
  },
  {
   "cell_type": "code",
   "execution_count": 74,
   "id": "b418778e-883c-4644-8f69-a14eac8926ec",
   "metadata": {},
   "outputs": [
    {
     "data": {
      "text/plain": [
       "'you are beauti , beauti'"
      ]
     },
     "execution_count": 74,
     "metadata": {},
     "output_type": "execute_result"
    }
   ],
   "source": [
    "token(\"you are beautiful, beauty\")"
   ]
  },
  {
   "cell_type": "code",
   "execution_count": 75,
   "id": "f6e6d76c-778b-4aba-9489-925ab0e608db",
   "metadata": {},
   "outputs": [
    {
     "data": {
      "text/plain": [
       "0       i 've onli got one real fan she is not woman ,...\n",
       "1       i would like to search insid for all of the th...\n",
       "2       love star , oh star of love have you forgotten...\n",
       "3       savior , my savior pour out over desert sand t...\n",
       "4       the sky is blue but there are cloud in my head...\n",
       "                              ...                        \n",
       "4995    first , you find a hous and scope it out find ...\n",
       "4996    no krishna , buddha , jesu in my soul 'til the...\n",
       "4997    just a small town girl livin ' in a lone world...\n",
       "4998    i am just a lousi bum search for the unknown c...\n",
       "4999    ( bairnson , elliott , parson ) what 's the us...\n",
       "Name: text, Length: 5000, dtype: object"
      ]
     },
     "execution_count": 75,
     "metadata": {},
     "output_type": "execute_result"
    }
   ],
   "source": [
    "df['text'].apply(lambda x: token(x))"
   ]
  },
  {
   "cell_type": "code",
   "execution_count": 76,
   "id": "62f32c0f-c0a9-447d-8066-3f6440b935b9",
   "metadata": {},
   "outputs": [
    {
     "name": "stdout",
     "output_type": "stream",
     "text": [
      "Requirement already satisfied: scikit-learn in c:\\users\\pyaes\\anaconda3\\envs\\music_recommendation\\lib\\site-packages (1.3.2)\n",
      "Requirement already satisfied: numpy<2.0,>=1.17.3 in c:\\users\\pyaes\\anaconda3\\envs\\music_recommendation\\lib\\site-packages (from scikit-learn) (1.26.3)\n",
      "Requirement already satisfied: scipy>=1.5.0 in c:\\users\\pyaes\\anaconda3\\envs\\music_recommendation\\lib\\site-packages (from scikit-learn) (1.11.4)\n",
      "Requirement already satisfied: joblib>=1.1.1 in c:\\users\\pyaes\\anaconda3\\envs\\music_recommendation\\lib\\site-packages (from scikit-learn) (1.3.2)\n",
      "Requirement already satisfied: threadpoolctl>=2.0.0 in c:\\users\\pyaes\\anaconda3\\envs\\music_recommendation\\lib\\site-packages (from scikit-learn) (3.2.0)\n"
     ]
    }
   ],
   "source": [
    "!pip install scikit-learn"
   ]
  },
  {
   "cell_type": "code",
   "execution_count": 77,
   "id": "cfa86c5c-b451-425d-9880-7c16539e3947",
   "metadata": {},
   "outputs": [],
   "source": [
    "from sklearn.feature_extraction.text import TfidfVectorizer\n",
    "from sklearn.metrics.pairwise import cosine_similarity"
   ]
  },
  {
   "cell_type": "code",
   "execution_count": 78,
   "id": "424e9439-b019-4abc-a31d-f559757ad3e4",
   "metadata": {},
   "outputs": [],
   "source": [
    "tfid = TfidfVectorizer(analyzer='word', stop_words = 'english')"
   ]
  },
  {
   "cell_type": "code",
   "execution_count": 79,
   "id": "1c8d1011-facd-48a5-b055-675fd6cdfbb1",
   "metadata": {},
   "outputs": [],
   "source": [
    "matrix = tfid.fit_transform(df['text'])"
   ]
  },
  {
   "cell_type": "code",
   "execution_count": 80,
   "id": "4051a8da-2207-4011-b124-6628f2406c9a",
   "metadata": {},
   "outputs": [],
   "source": [
    "similar = cosine_similarity(matrix)"
   ]
  },
  {
   "cell_type": "code",
   "execution_count": 81,
   "id": "e65e784a-de71-4946-b18e-ee9065683a58",
   "metadata": {},
   "outputs": [
    {
     "data": {
      "text/plain": [
       "array([1.        , 0.01071354, 0.07359373, ..., 0.02737629, 0.00766757,\n",
       "       0.00528097])"
      ]
     },
     "execution_count": 81,
     "metadata": {},
     "output_type": "execute_result"
    }
   ],
   "source": [
    "similar[0]"
   ]
  },
  {
   "cell_type": "code",
   "execution_count": 83,
   "id": "0cb112b2-9fb1-4667-9aa7-dcf01dd4f388",
   "metadata": {},
   "outputs": [
    {
     "data": {
      "text/plain": [
       "1"
      ]
     },
     "execution_count": 83,
     "metadata": {},
     "output_type": "execute_result"
    }
   ],
   "source": [
    "df[df['song'] == 'Lies'].index[0]"
   ]
  },
  {
   "cell_type": "markdown",
   "id": "123ccd46-31f7-4b96-b320-8c35cdaf46c3",
   "metadata": {},
   "source": [
    "Recommender Function"
   ]
  },
  {
   "cell_type": "code",
   "execution_count": 86,
   "id": "28738c56-72dc-4744-84e6-3e5ca963e1a7",
   "metadata": {},
   "outputs": [],
   "source": [
    "def recommender(song_name):\n",
    "    idx = df[df['song'] == song_name].index[0]\n",
    "    distance = sorted(list(enumerate(similar[idx])), reverse=True, key=lambda x:x[1])\n",
    "    song = []\n",
    "    for s_id in distance[1:21]:\n",
    "        song.append(df.iloc[s_id[0]].song)\n",
    "    return song"
   ]
  },
  {
   "cell_type": "code",
   "execution_count": 87,
   "id": "cb32fccd-3c54-4b21-977d-fed01bb27570",
   "metadata": {},
   "outputs": [
    {
     "data": {
      "text/plain": [
       "['Hide Your Love',\n",
       " 'Body And The Sun',\n",
       " 'Stories',\n",
       " 'Kill The Pain',\n",
       " 'Constantly',\n",
       " 'Screaming',\n",
       " 'Smile',\n",
       " 'All Out Of Love',\n",
       " \"Can't Stop\",\n",
       " 'In Love With The Darkness',\n",
       " \"Doin' The Things That We Want To\",\n",
       " 'I Want You',\n",
       " 'Made Again',\n",
       " 'Where Does The World Go To Hide',\n",
       " 'Komakino',\n",
       " 'Then You Turn Away',\n",
       " \"Reflection (From Disney's Mulan)\",\n",
       " 'Empty Heart',\n",
       " 'Deep In My Heart',\n",
       " 'When The Sand Runs Out']"
      ]
     },
     "execution_count": 87,
     "metadata": {},
     "output_type": "execute_result"
    }
   ],
   "source": [
    "recommender('Lies')"
   ]
  },
  {
   "cell_type": "code",
   "execution_count": 88,
   "id": "6445137c-8173-4b5d-91ad-524e4e04be27",
   "metadata": {},
   "outputs": [],
   "source": [
    "import pickle"
   ]
  },
  {
   "cell_type": "code",
   "execution_count": 89,
   "id": "00c9a2e0-e741-4936-bf3f-de7125613391",
   "metadata": {},
   "outputs": [],
   "source": [
    "pickle.dump(similar, open(\"similarity\", \"wb\"))"
   ]
  },
  {
   "cell_type": "code",
   "execution_count": 90,
   "id": "4c4b235d-52ac-4dcd-96a1-0d5d11925cee",
   "metadata": {},
   "outputs": [],
   "source": [
    "pickle.dump(df, open(\"df\", \"wb\"))"
   ]
  },
  {
   "cell_type": "code",
   "execution_count": null,
   "id": "3089a304-d953-4586-8dc9-8927d7c8f3b5",
   "metadata": {},
   "outputs": [],
   "source": []
  }
 ],
 "metadata": {
  "kernelspec": {
   "display_name": "Python 3 (ipykernel)",
   "language": "python",
   "name": "python3"
  },
  "language_info": {
   "codemirror_mode": {
    "name": "ipython",
    "version": 3
   },
   "file_extension": ".py",
   "mimetype": "text/x-python",
   "name": "python",
   "nbconvert_exporter": "python",
   "pygments_lexer": "ipython3",
   "version": "3.11.7"
  }
 },
 "nbformat": 4,
 "nbformat_minor": 5
}
